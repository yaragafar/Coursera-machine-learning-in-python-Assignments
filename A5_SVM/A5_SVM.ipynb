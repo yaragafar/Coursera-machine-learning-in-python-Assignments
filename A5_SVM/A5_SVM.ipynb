{
  "cells": [
    {
      "cell_type": "markdown",
      "metadata": {
        "id": "a39de45c-e2ce-4852-9494-f21bb9f9beb7"
      },
      "source": [
        "# Assignment_3 SVM"
      ],
      "id": "a39de45c-e2ce-4852-9494-f21bb9f9beb7"
    },
    {
      "cell_type": "markdown",
      "source": [
        "**Name**: Yara Hossam El-Din\n",
        "\n",
        "**Sec**: 2\n",
        "\n",
        "**BN**: 48"
      ],
      "metadata": {
        "id": "mZsdEjFn5GNx"
      },
      "id": "mZsdEjFn5GNx"
    },
    {
      "cell_type": "code",
      "execution_count": 1,
      "metadata": {
        "id": "643e7732-dd96-47df-854f-007ec5d5e10c"
      },
      "outputs": [],
      "source": [
        "import numpy as np\n",
        "from matplotlib.colors import ListedColormap\n",
        "import matplotlib.pyplot as plt\n",
        "import matplotlib.patches as mpatches\n",
        "%matplotlib inline"
      ],
      "id": "643e7732-dd96-47df-854f-007ec5d5e10c"
    },
    {
      "cell_type": "markdown",
      "metadata": {
        "id": "24b0cbf7-010c-4f1e-96e5-73d79e99a007"
      },
      "source": [
        "# Part 2: SVM"
      ],
      "id": "24b0cbf7-010c-4f1e-96e5-73d79e99a007"
    },
    {
      "cell_type": "markdown",
      "metadata": {
        "id": "ce7b0851-a39c-4b17-99f6-a0d404a2577e"
      },
      "source": [
        "### Use the following function to plot the classification regions"
      ],
      "id": "ce7b0851-a39c-4b17-99f6-a0d404a2577e"
    },
    {
      "cell_type": "code",
      "execution_count": 2,
      "metadata": {
        "id": "8b776233-2fdd-4034-9c72-688869cdedc1"
      },
      "outputs": [],
      "source": [
        "def plot_class_regions_for_classifier(clf, X, y, X_test=None, y_test=None, title=None, target_names = None, plot_decision_regions = True):\n",
        "\n",
        "    numClasses = int(np.amax(y) +1)\n",
        "    color_list_light = ['#FFFFAA', '#EFEFEF', '#AAFFAA', '#AAAAFF']\n",
        "    color_list_bold = ['#EEEE00', '#000000', '#00CC00', '#0000CC']\n",
        "    cmap_light = ListedColormap(color_list_light[0:numClasses])\n",
        "    cmap_bold  = ListedColormap(color_list_bold[0:numClasses])\n",
        "\n",
        "    h = 0.03\n",
        "    k = 0.5\n",
        "    x_plot_adjust = 0.1\n",
        "    y_plot_adjust = 0.1\n",
        "    plot_symbol_size = 50\n",
        "\n",
        "    x_min = X[:, 0].min()\n",
        "    x_max = X[:, 0].max()\n",
        "    y_min = X[:, 1].min()\n",
        "    y_max = X[:, 1].max()\n",
        "    x2, y2 = np.meshgrid(np.arange(x_min-k, x_max+k, h), np.arange(y_min-k, y_max+k, h))\n",
        "    # np.c_ Translates slice objects to concatenation along the second axis\n",
        "    # e.g. np.c_[np.array([[1,2,3]]), 0, 0, np.array([[4,5,6]])]\n",
        "    # ravel() Returns a contiguous flattened array.\n",
        "    # x = np.array([[1, 2, 3], [4, 5, 6]])\n",
        "    # np.ravel(x) = [1 2 3 4 5 6]\n",
        "    P = clf.predict(np.c_[x2.ravel(), y2.ravel()])\n",
        "    P = P.reshape(x2.shape)\n",
        "    plt.figure()\n",
        "    if plot_decision_regions:\n",
        "        plt.contourf(x2, y2, P, cmap=cmap_light, alpha = 0.8)\n",
        "\n",
        "    plt.scatter(X[:, 0], X[:, 1], c=y, cmap=cmap_bold, s=plot_symbol_size, edgecolor = 'black')\n",
        "    plt.xlim(x_min - x_plot_adjust, x_max + x_plot_adjust)\n",
        "    plt.ylim(y_min - y_plot_adjust, y_max + y_plot_adjust)\n",
        "\n",
        "    if (X_test is not None):\n",
        "        plt.scatter(X_test[:, 0], X_test[:, 1], c=y_test, cmap=cmap_bold, s=plot_symbol_size, marker='^', edgecolor = 'black')\n",
        "        train_score = clf.score(X, y)\n",
        "        test_score  = clf.score(X_test, y_test)\n",
        "        title = title + \"\\nTrain score = {:.2f}, Test score = {:.2f}\".format(train_score, test_score)\n",
        "\n",
        "    if (target_names is not None):\n",
        "        legend_handles = []\n",
        "        for i in range(0, len(target_names)):\n",
        "            patch = mpatches.Patch(color=color_list_bold[i], label=target_names[i])\n",
        "            legend_handles.append(patch)\n",
        "        plt.legend(loc=0, handles=legend_handles)\n",
        "\n",
        "    if (title is not None):\n",
        "        plt.title(title)\n",
        "    plt.show()"
      ],
      "id": "8b776233-2fdd-4034-9c72-688869cdedc1"
    },
    {
      "cell_type": "markdown",
      "metadata": {
        "id": "164ced46-3aab-4bb3-8be1-ce62dfbd841d"
      },
      "source": [
        "### Use the following dataset in questions 1, 2, and 3."
      ],
      "id": "164ced46-3aab-4bb3-8be1-ce62dfbd841d"
    },
    {
      "cell_type": "code",
      "execution_count": 3,
      "metadata": {
        "id": "99970010-3f35-42b7-8ae5-39e0b905db3e"
      },
      "outputs": [],
      "source": [
        "from sklearn.datasets import make_classification\n",
        "\n",
        "X, y = make_classification(n_samples = 100, n_features=2,\n",
        "                                n_redundant=0, n_informative=2,\n",
        "                                n_clusters_per_class=1, flip_y = 0.1,\n",
        "                                class_sep = 0.5, random_state=0)"
      ],
      "id": "99970010-3f35-42b7-8ae5-39e0b905db3e"
    },
    {
      "cell_type": "markdown",
      "metadata": {
        "id": "c4ec298b-d4af-467f-8379-cad0c7704fbf"
      },
      "source": [
        "#### Question 1\n",
        "Split the data into training and testing datasets (use random_state=0 and 25% of the data for testing)"
      ],
      "id": "c4ec298b-d4af-467f-8379-cad0c7704fbf"
    },
    {
      "cell_type": "code",
      "execution_count": 4,
      "metadata": {
        "id": "70a204f4-9316-4b45-8ccd-18614a4fd61c"
      },
      "outputs": [],
      "source": [
        "from sklearn.model_selection import train_test_split\n",
        "X_train, X_test, y_train, y_test = train_test_split(X, y, test_size=0.25, random_state=0)"
      ],
      "id": "70a204f4-9316-4b45-8ccd-18614a4fd61c"
    },
    {
      "cell_type": "markdown",
      "metadata": {
        "id": "ef0f7835-a714-4bfc-92ed-6eab6a6e24f0"
      },
      "source": [
        "#### Question 2\n",
        "1. Train an SVM classifier using linear kernel.\n",
        "2. Plot the classification regions using the training dataset."
      ],
      "id": "ef0f7835-a714-4bfc-92ed-6eab6a6e24f0"
    },
    {
      "cell_type": "code",
      "execution_count": 5,
      "metadata": {
        "id": "82b7faaf-35fa-4993-aedd-9cd083657726"
      },
      "outputs": [],
      "source": [
        "from sklearn.svm import SVC\n",
        "svc = SVC(kernel ='linear').fit(X_train,y_train)"
      ],
      "id": "82b7faaf-35fa-4993-aedd-9cd083657726"
    },
    {
      "cell_type": "code",
      "execution_count": 6,
      "metadata": {
        "colab": {
          "base_uri": "https://localhost:8080/",
          "height": 265
        },
        "id": "gZK5CZ_yfd4P",
        "outputId": "fb67cd68-c657-46cc-ac14-946d17920756"
      },
      "outputs": [
        {
          "output_type": "display_data",
          "data": {
            "text/plain": [
              "<Figure size 432x288 with 1 Axes>"
            ],
            "image/png": "[encoded data removed]"
          },
          "metadata": {
            "needs_background": "light"
          }
        }
      ],
      "source": [
        "plot_class_regions_for_classifier(svc, X_train, y_train, X_test=None, y_test=None, title=None, target_names = None, plot_decision_regions = True)"
      ],
      "id": "gZK5CZ_yfd4P"
    },
    {
      "cell_type": "markdown",
      "metadata": {
        "id": "498f2792-e6fb-46dc-b914-ef6cfe161f17"
      },
      "source": [
        "#### Question 3\n",
        "1. Train an SVM classifier using linear kernel with C=0.00001.\n",
        "2. Train another SVM classifier using linear kernel with C=100\n",
        "3. Plot the classification regions for both cases using the training dataset.\n",
        "4. Comment on the results."
      ],
      "id": "498f2792-e6fb-46dc-b914-ef6cfe161f17"
    },
    {
      "cell_type": "code",
      "execution_count": 7,
      "metadata": {
        "colab": {
          "base_uri": "https://localhost:8080/",
          "height": 265
        },
        "id": "8a31a9d1-90e2-484e-981b-6e103bb3bfe3",
        "outputId": "cd457ebe-0127-4284-c12a-8576075cdf2c"
      },
      "outputs": [
        {
          "output_type": "display_data",
          "data": {
            "text/plain": [
              "<Figure size 432x288 with 1 Axes>"
            ],
            "image/png": "[encoded data removed]"
          },
          "metadata": {
            "needs_background": "light"
          }
        }
      ],
      "source": [
        "svc1 = SVC(kernel ='linear',C=0.00001).fit(X_train,y_train)\n",
        "plot_class_regions_for_classifier(svc1, X_train, y_train, X_test=None, y_test=None, title=None, target_names = None, plot_decision_regions = True)"
      ],
      "id": "8a31a9d1-90e2-484e-981b-6e103bb3bfe3"
    },
    {
      "cell_type": "code",
      "execution_count": 8,
      "metadata": {
        "colab": {
          "base_uri": "https://localhost:8080/",
          "height": 265
        },
        "id": "Nsuf4uNPlBGq",
        "outputId": "4c063e53-c782-42dd-e944-8288dedd86b7"
      },
      "outputs": [
        {
          "output_type": "display_data",
          "data": {
            "text/plain": [
              "<Figure size 432x288 with 1 Axes>"
            ],
            "image/png": "[encoded data removed]"
          },
          "metadata": {
            "needs_background": "light"
          }
        }
      ],
      "source": [
        "svc2 = SVC(kernel ='linear',C=100).fit(X_train,y_train)\n",
        "plot_class_regions_for_classifier(svc2, X_train, y_train, X_test=None, y_test=None, title=None, target_names = None, plot_decision_regions = True)"
      ],
      "id": "Nsuf4uNPlBGq"
    },
    {
      "cell_type": "markdown",
      "metadata": {
        "id": "aa143670-7f09-474b-b10f-6b22e735a026"
      },
      "source": [
        "### Use the fruits dataset in questions 4, 5, 6."
      ],
      "id": "aa143670-7f09-474b-b10f-6b22e735a026"
    },
    {
      "cell_type": "code",
      "execution_count": 9,
      "metadata": {
        "id": "78a7c63d-c3e4-4d70-b5d5-d25685bc9099"
      },
      "outputs": [],
      "source": [
        "import pandas as pd\n",
        "fruits = pd.read_table('fruit_data_with_colors.txt')\n",
        "feature_names_fruits = ['height', 'width', 'mass', 'color_score']"
      ],
      "id": "78a7c63d-c3e4-4d70-b5d5-d25685bc9099"
    },
    {
      "cell_type": "code",
      "execution_count": 10,
      "metadata": {
        "colab": {
          "base_uri": "https://localhost:8080/",
          "height": 1000
        },
        "id": "PuJKZkmttnLn",
        "outputId": "3babc808-72b8-4990-b2a4-4904e60f1932"
      },
      "outputs": [
        {
          "output_type": "execute_result",
          "data": {
            "text/plain": [
              "    fruit_label fruit_name     fruit_subtype  mass  width  height  color_score\n",
              "0             1      apple      granny_smith   192    8.4     7.3         0.55\n",
              "1             1      apple      granny_smith   180    8.0     6.8         0.59\n",
              "2             1      apple      granny_smith   176    7.4     7.2         0.60\n",
              "3             2   mandarin          mandarin    86    6.2     4.7         0.80\n",
              "4             2   mandarin          mandarin    84    6.0     4.6         0.79\n",
              "5             2   mandarin          mandarin    80    5.8     4.3         0.77\n",
              "6             2   mandarin          mandarin    80    5.9     4.3         0.81\n",
              "7             2   mandarin          mandarin    76    5.8     4.0         0.81\n",
              "8             1      apple          braeburn   178    7.1     7.8         0.92\n",
              "9             1      apple          braeburn   172    7.4     7.0         0.89\n",
              "10            1      apple          braeburn   166    6.9     7.3         0.93\n",
              "11            1      apple          braeburn   172    7.1     7.6         0.92\n",
              "12            1      apple          braeburn   154    7.0     7.1         0.88\n",
              "13            1      apple  golden_delicious   164    7.3     7.7         0.70\n",
              "14            1      apple  golden_delicious   152    7.6     7.3         0.69\n",
              "15            1      apple  golden_delicious   156    7.7     7.1         0.69\n",
              "16            1      apple  golden_delicious   156    7.6     7.5         0.67\n",
              "17            1      apple  golden_delicious   168    7.5     7.6         0.73\n",
              "18            1      apple       cripps_pink   162    7.5     7.1         0.83\n",
              "19            1      apple       cripps_pink   162    7.4     7.2         0.85\n",
              "20            1      apple       cripps_pink   160    7.5     7.5         0.86\n",
              "21            1      apple       cripps_pink   156    7.4     7.4         0.84\n",
              "22            1      apple       cripps_pink   140    7.3     7.1         0.87\n",
              "23            1      apple       cripps_pink   170    7.6     7.9         0.88\n",
              "24            3     orange     spanish_jumbo   342    9.0     9.4         0.75\n",
              "25            3     orange     spanish_jumbo   356    9.2     9.2         0.75\n",
              "26            3     orange     spanish_jumbo   362    9.6     9.2         0.74\n",
              "27            3     orange  selected_seconds   204    7.5     9.2         0.77\n",
              "28            3     orange  selected_seconds   140    6.7     7.1         0.72\n",
              "29            3     orange  selected_seconds   160    7.0     7.4         0.81\n",
              "30            3     orange  selected_seconds   158    7.1     7.5         0.79\n",
              "31            3     orange  selected_seconds   210    7.8     8.0         0.82\n",
              "32            3     orange  selected_seconds   164    7.2     7.0         0.80\n",
              "33            3     orange      turkey_navel   190    7.5     8.1         0.74\n",
              "34            3     orange      turkey_navel   142    7.6     7.8         0.75\n",
              "35            3     orange      turkey_navel   150    7.1     7.9         0.75\n",
              "36            3     orange      turkey_navel   160    7.1     7.6         0.76\n",
              "37            3     orange      turkey_navel   154    7.3     7.3         0.79\n",
              "38            3     orange      turkey_navel   158    7.2     7.8         0.77\n",
              "39            3     orange      turkey_navel   144    6.8     7.4         0.75\n",
              "40            3     orange      turkey_navel   154    7.1     7.5         0.78\n",
              "41            3     orange      turkey_navel   180    7.6     8.2         0.79\n",
              "42            3     orange      turkey_navel   154    7.2     7.2         0.82\n",
              "43            4      lemon    spanish_belsan   194    7.2    10.3         0.70\n",
              "44            4      lemon    spanish_belsan   200    7.3    10.5         0.72\n",
              "45            4      lemon    spanish_belsan   186    7.2     9.2         0.72\n",
              "46            4      lemon    spanish_belsan   216    7.3    10.2         0.71\n",
              "47            4      lemon    spanish_belsan   196    7.3     9.7         0.72\n",
              "48            4      lemon    spanish_belsan   174    7.3    10.1         0.72\n",
              "49            4      lemon           unknown   132    5.8     8.7         0.73\n",
              "50            4      lemon           unknown   130    6.0     8.2         0.71\n",
              "51            4      lemon           unknown   116    6.0     7.5         0.72\n",
              "52            4      lemon           unknown   118    5.9     8.0         0.72\n",
              "53            4      lemon           unknown   120    6.0     8.4         0.74\n",
              "54            4      lemon           unknown   116    6.1     8.5         0.71\n",
              "55            4      lemon           unknown   116    6.3     7.7         0.72\n",
              "56            4      lemon           unknown   116    5.9     8.1         0.73\n",
              "57            4      lemon           unknown   152    6.5     8.5         0.72\n",
              "58            4      lemon           unknown   118    6.1     8.1         0.70"
            ],
            "text/html": [
              "\n",
              "  <div id=\"df-c2ac315c-5afc-41e0-8e15-81ddd7cac6df\">\n",
              "    <div class=\"colab-df-container\">\n",
              "      <div>\n",
              "<style scoped>\n",
              "    .dataframe tbody tr th:only-of-type {\n",
              "        vertical-align: middle;\n",
              "    }\n",
              "\n",
              "    .dataframe tbody tr th {\n",
              "        vertical-align: top;\n",
              "    }\n",
              "\n",
              "    .dataframe thead th {\n",
              "        text-align: right;\n",
              "    }\n",
              "</style>\n",
              "<table border=\"1\" class=\"dataframe\">\n",
              "  <thead>\n",
              "    <tr style=\"text-align: right;\">\n",
              "      <th></th>\n",
              "      <th>fruit_label</th>\n",
              "      <th>fruit_name</th>\n",
              "      <th>fruit_subtype</th>\n",
              "      <th>mass</th>\n",
              "      <th>width</th>\n",
              "      <th>height</th>\n",
              "      <th>color_score</th>\n",
              "    </tr>\n",
              "  </thead>\n",
              "  <tbody>\n",
              "    <tr>\n",
              "      <th>0</th>\n",
              "      <td>1</td>\n",
              "      <td>apple</td>\n",
              "      <td>granny_smith</td>\n",
              "      <td>192</td>\n",
              "      <td>8.4</td>\n",
              "      <td>7.3</td>\n",
              "      <td>0.55</td>\n",
              "    </tr>\n",
              "    <tr>\n",
              "      <th>1</th>\n",
              "      <td>1</td>\n",
              "      <td>apple</td>\n",
              "      <td>granny_smith</td>\n",
              "      <td>180</td>\n",
              "      <td>8.0</td>\n",
              "      <td>6.8</td>\n",
              "      <td>0.59</td>\n",
              "    </tr>\n",
              "    <tr>\n",
              "      <th>2</th>\n",
              "      <td>1</td>\n",
              "      <td>apple</td>\n",
              "      <td>granny_smith</td>\n",
              "      <td>176</td>\n",
              "      <td>7.4</td>\n",
              "      <td>7.2</td>\n",
              "      <td>0.60</td>\n",
              "    </tr>\n",
              "    <tr>\n",
              "      <th>3</th>\n",
              "      <td>2</td>\n",
              "      <td>mandarin</td>\n",
              "      <td>mandarin</td>\n",
              "      <td>86</td>\n",
              "      <td>6.2</td>\n",
              "      <td>4.7</td>\n",
              "      <td>0.80</td>\n",
              "    </tr>\n",
              "    <tr>\n",
              "      <th>4</th>\n",
              "      <td>2</td>\n",
              "      <td>mandarin</td>\n",
              "      <td>mandarin</td>\n",
              "      <td>84</td>\n",
              "      <td>6.0</td>\n",
              "      <td>4.6</td>\n",
              "      <td>0.79</td>\n",
              "    </tr>\n",
              "    <tr>\n",
              "      <th>5</th>\n",
              "      <td>2</td>\n",
              "      <td>mandarin</td>\n",
              "      <td>mandarin</td>\n",
              "      <td>80</td>\n",
              "      <td>5.8</td>\n",
              "      <td>4.3</td>\n",
              "      <td>0.77</td>\n",
              "    </tr>\n",
              "    <tr>\n",
              "      <th>6</th>\n",
              "      <td>2</td>\n",
              "      <td>mandarin</td>\n",
              "      <td>mandarin</td>\n",
              "      <td>80</td>\n",
              "      <td>5.9</td>\n",
              "      <td>4.3</td>\n",
              "      <td>0.81</td>\n",
              "    </tr>\n",
              "    <tr>\n",
              "      <th>7</th>\n",
              "      <td>2</td>\n",
              "      <td>mandarin</td>\n",
              "      <td>mandarin</td>\n",
              "      <td>76</td>\n",
              "      <td>5.8</td>\n",
              "      <td>4.0</td>\n",
              "      <td>0.81</td>\n",
              "    </tr>\n",
              "    <tr>\n",
              "      <th>8</th>\n",
              "      <td>1</td>\n",
              "      <td>apple</td>\n",
              "      <td>braeburn</td>\n",
              "      <td>178</td>\n",
              "      <td>7.1</td>\n",
              "      <td>7.8</td>\n",
              "      <td>0.92</td>\n",
              "    </tr>\n",
              "    <tr>\n",
              "      <th>9</th>\n",
              "      <td>1</td>\n",
              "      <td>apple</td>\n",
              "      <td>braeburn</td>\n",
              "      <td>172</td>\n",
              "      <td>7.4</td>\n",
              "      <td>7.0</td>\n",
              "      <td>0.89</td>\n",
              "    </tr>\n",
              "    <tr>\n",
              "      <th>10</th>\n",
              "      <td>1</td>\n",
              "      <td>apple</td>\n",
              "      <td>braeburn</td>\n",
              "      <td>166</td>\n",
              "      <td>6.9</td>\n",
              "      <td>7.3</td>\n",
              "      <td>0.93</td>\n",
              "    </tr>\n",
              "    <tr>\n",
              "      <th>11</th>\n",
              "      <td>1</td>\n",
              "      <td>apple</td>\n",
              "      <td>braeburn</td>\n",
              "      <td>172</td>\n",
              "      <td>7.1</td>\n",
              "      <td>7.6</td>\n",
              "      <td>0.92</td>\n",
              "    </tr>\n",
              "    <tr>\n",
              "      <th>12</th>\n",
              "      <td>1</td>\n",
              "      <td>apple</td>\n",
              "      <td>braeburn</td>\n",
              "      <td>154</td>\n",
              "      <td>7.0</td>\n",
              "      <td>7.1</td>\n",
              "      <td>0.88</td>\n",
              "    </tr>\n",
              "    <tr>\n",
              "      <th>13</th>\n",
              "      <td>1</td>\n",
              "      <td>apple</td>\n",
              "      <td>golden_delicious</td>\n",
              "      <td>164</td>\n",
              "      <td>7.3</td>\n",
              "      <td>7.7</td>\n",
              "      <td>0.70</td>\n",
              "    </tr>\n",
              "    <tr>\n",
              "      <th>14</th>\n",
              "      <td>1</td>\n",
              "      <td>apple</td>\n",
              "      <td>golden_delicious</td>\n",
              "      <td>152</td>\n",
              "      <td>7.6</td>\n",
              "      <td>7.3</td>\n",
              "      <td>0.69</td>\n",
              "    </tr>\n",
              "    <tr>\n",
              "      <th>15</th>\n",
              "      <td>1</td>\n",
              "      <td>apple</td>\n",
              "      <td>golden_delicious</td>\n",
              "      <td>156</td>\n",
              "      <td>7.7</td>\n",
              "      <td>7.1</td>\n",
              "      <td>0.69</td>\n",
              "    </tr>\n",
              "    <tr>\n",
              "      <th>16</th>\n",
              "      <td>1</td>\n",
              "      <td>apple</td>\n",
              "      <td>golden_delicious</td>\n",
              "      <td>156</td>\n",
              "      <td>7.6</td>\n",
              "      <td>7.5</td>\n",
              "      <td>0.67</td>\n",
              "    </tr>\n",
              "    <tr>\n",
              "      <th>17</th>\n",
              "      <td>1</td>\n",
              "      <td>apple</td>\n",
              "      <td>golden_delicious</td>\n",
              "      <td>168</td>\n",
              "      <td>7.5</td>\n",
              "      <td>7.6</td>\n",
              "      <td>0.73</td>\n",
              "    </tr>\n",
              "    <tr>\n",
              "      <th>18</th>\n",
              "      <td>1</td>\n",
              "      <td>apple</td>\n",
              "      <td>cripps_pink</td>\n",
              "      <td>162</td>\n",
              "      <td>7.5</td>\n",
              "      <td>7.1</td>\n",
              "      <td>0.83</td>\n",
              "    </tr>\n",
              "    <tr>\n",
              "      <th>19</th>\n",
              "      <td>1</td>\n",
              "      <td>apple</td>\n",
              "      <td>cripps_pink</td>\n",
              "      <td>162</td>\n",
              "      <td>7.4</td>\n",
              "      <td>7.2</td>\n",
              "      <td>0.85</td>\n",
              "    </tr>\n",
              "    <tr>\n",
              "      <th>20</th>\n",
              "      <td>1</td>\n",
              "      <td>apple</td>\n",
              "      <td>cripps_pink</td>\n",
              "      <td>160</td>\n",
              "      <td>7.5</td>\n",
              "      <td>7.5</td>\n",
              "      <td>0.86</td>\n",
              "    </tr>\n",
              "    <tr>\n",
              "      <th>21</th>\n",
              "      <td>1</td>\n",
              "      <td>apple</td>\n",
              "      <td>cripps_pink</td>\n",
              "      <td>156</td>\n",
              "      <td>7.4</td>\n",
              "      <td>7.4</td>\n",
              "      <td>0.84</td>\n",
              "    </tr>\n",
              "    <tr>\n",
              "      <th>22</th>\n",
              "      <td>1</td>\n",
              "      <td>apple</td>\n",
              "      <td>cripps_pink</td>\n",
              "      <td>140</td>\n",
              "      <td>7.3</td>\n",
              "      <td>7.1</td>\n",
              "      <td>0.87</td>\n",
              "    </tr>\n",
              "    <tr>\n",
              "      <th>23</th>\n",
              "      <td>1</td>\n",
              "      <td>apple</td>\n",
              "      <td>cripps_pink</td>\n",
              "      <td>170</td>\n",
              "      <td>7.6</td>\n",
              "      <td>7.9</td>\n",
              "      <td>0.88</td>\n",
              "    </tr>\n",
              "    <tr>\n",
              "      <th>24</th>\n",
              "      <td>3</td>\n",
              "      <td>orange</td>\n",
              "      <td>spanish_jumbo</td>\n",
              "      <td>342</td>\n",
              "      <td>9.0</td>\n",
              "      <td>9.4</td>\n",
              "      <td>0.75</td>\n",
              "    </tr>\n",
              "    <tr>\n",
              "      <th>25</th>\n",
              "      <td>3</td>\n",
              "      <td>orange</td>\n",
              "      <td>spanish_jumbo</td>\n",
              "      <td>356</td>\n",
              "      <td>9.2</td>\n",
              "      <td>9.2</td>\n",
              "      <td>0.75</td>\n",
              "    </tr>\n",
              "    <tr>\n",
              "      <th>26</th>\n",
              "      <td>3</td>\n",
              "      <td>orange</td>\n",
              "      <td>spanish_jumbo</td>\n",
              "      <td>362</td>\n",
              "      <td>9.6</td>\n",
              "      <td>9.2</td>\n",
              "      <td>0.74</td>\n",
              "    </tr>\n",
              "    <tr>\n",
              "      <th>27</th>\n",
              "      <td>3</td>\n",
              "      <td>orange</td>\n",
              "      <td>selected_seconds</td>\n",
              "      <td>204</td>\n",
              "      <td>7.5</td>\n",
              "      <td>9.2</td>\n",
              "      <td>0.77</td>\n",
              "    </tr>\n",
              "    <tr>\n",
              "      <th>28</th>\n",
              "      <td>3</td>\n",
              "      <td>orange</td>\n",
              "      <td>selected_seconds</td>\n",
              "      <td>140</td>\n",
              "      <td>6.7</td>\n",
              "      <td>7.1</td>\n",
              "      <td>0.72</td>\n",
              "    </tr>\n",
              "    <tr>\n",
              "      <th>29</th>\n",
              "      <td>3</td>\n",
              "      <td>orange</td>\n",
              "      <td>selected_seconds</td>\n",
              "      <td>160</td>\n",
              "      <td>7.0</td>\n",
              "      <td>7.4</td>\n",
              "      <td>0.81</td>\n",
              "    </tr>\n",
              "    <tr>\n",
              "      <th>30</th>\n",
              "      <td>3</td>\n",
              "      <td>orange</td>\n",
              "      <td>selected_seconds</td>\n",
              "      <td>158</td>\n",
              "      <td>7.1</td>\n",
              "      <td>7.5</td>\n",
              "      <td>0.79</td>\n",
              "    </tr>\n",
              "    <tr>\n",
              "      <th>31</th>\n",
              "      <td>3</td>\n",
              "      <td>orange</td>\n",
              "      <td>selected_seconds</td>\n",
              "      <td>210</td>\n",
              "      <td>7.8</td>\n",
              "      <td>8.0</td>\n",
              "      <td>0.82</td>\n",
              "    </tr>\n",
              "    <tr>\n",
              "      <th>32</th>\n",
              "      <td>3</td>\n",
              "      <td>orange</td>\n",
              "      <td>selected_seconds</td>\n",
              "      <td>164</td>\n",
              "      <td>7.2</td>\n",
              "      <td>7.0</td>\n",
              "      <td>0.80</td>\n",
              "    </tr>\n",
              "    <tr>\n",
              "      <th>33</th>\n",
              "      <td>3</td>\n",
              "      <td>orange</td>\n",
              "      <td>turkey_navel</td>\n",
              "      <td>190</td>\n",
              "      <td>7.5</td>\n",
              "      <td>8.1</td>\n",
              "      <td>0.74</td>\n",
              "    </tr>\n",
              "    <tr>\n",
              "      <th>34</th>\n",
              "      <td>3</td>\n",
              "      <td>orange</td>\n",
              "      <td>turkey_navel</td>\n",
              "      <td>142</td>\n",
              "      <td>7.6</td>\n",
              "      <td>7.8</td>\n",
              "      <td>0.75</td>\n",
              "    </tr>\n",
              "    <tr>\n",
              "      <th>35</th>\n",
              "      <td>3</td>\n",
              "      <td>orange</td>\n",
              "      <td>turkey_navel</td>\n",
              "      <td>150</td>\n",
              "      <td>7.1</td>\n",
              "      <td>7.9</td>\n",
              "      <td>0.75</td>\n",
              "    </tr>\n",
              "    <tr>\n",
              "      <th>36</th>\n",
              "      <td>3</td>\n",
              "      <td>orange</td>\n",
              "      <td>turkey_navel</td>\n",
              "      <td>160</td>\n",
              "      <td>7.1</td>\n",
              "      <td>7.6</td>\n",
              "      <td>0.76</td>\n",
              "    </tr>\n",
              "    <tr>\n",
              "      <th>37</th>\n",
              "      <td>3</td>\n",
              "      <td>orange</td>\n",
              "      <td>turkey_navel</td>\n",
              "      <td>154</td>\n",
              "      <td>7.3</td>\n",
              "      <td>7.3</td>\n",
              "      <td>0.79</td>\n",
              "    </tr>\n",
              "    <tr>\n",
              "      <th>38</th>\n",
              "      <td>3</td>\n",
              "      <td>orange</td>\n",
              "      <td>turkey_navel</td>\n",
              "      <td>158</td>\n",
              "      <td>7.2</td>\n",
              "      <td>7.8</td>\n",
              "      <td>0.77</td>\n",
              "    </tr>\n",
              "    <tr>\n",
              "      <th>39</th>\n",
              "      <td>3</td>\n",
              "      <td>orange</td>\n",
              "      <td>turkey_navel</td>\n",
              "      <td>144</td>\n",
              "      <td>6.8</td>\n",
              "      <td>7.4</td>\n",
              "      <td>0.75</td>\n",
              "    </tr>\n",
              "    <tr>\n",
              "      <th>40</th>\n",
              "      <td>3</td>\n",
              "      <td>orange</td>\n",
              "      <td>turkey_navel</td>\n",
              "      <td>154</td>\n",
              "      <td>7.1</td>\n",
              "      <td>7.5</td>\n",
              "      <td>0.78</td>\n",
              "    </tr>\n",
              "    <tr>\n",
              "      <th>41</th>\n",
              "      <td>3</td>\n",
              "      <td>orange</td>\n",
              "      <td>turkey_navel</td>\n",
              "      <td>180</td>\n",
              "      <td>7.6</td>\n",
              "      <td>8.2</td>\n",
              "      <td>0.79</td>\n",
              "    </tr>\n",
              "    <tr>\n",
              "      <th>42</th>\n",
              "      <td>3</td>\n",
              "      <td>orange</td>\n",
              "      <td>turkey_navel</td>\n",
              "      <td>154</td>\n",
              "      <td>7.2</td>\n",
              "      <td>7.2</td>\n",
              "      <td>0.82</td>\n",
              "    </tr>\n",
              "    <tr>\n",
              "      <th>43</th>\n",
              "      <td>4</td>\n",
              "      <td>lemon</td>\n",
              "      <td>spanish_belsan</td>\n",
              "      <td>194</td>\n",
              "      <td>7.2</td>\n",
              "      <td>10.3</td>\n",
              "      <td>0.70</td>\n",
              "    </tr>\n",
              "    <tr>\n",
              "      <th>44</th>\n",
              "      <td>4</td>\n",
              "      <td>lemon</td>\n",
              "      <td>spanish_belsan</td>\n",
              "      <td>200</td>\n",
              "      <td>7.3</td>\n",
              "      <td>10.5</td>\n",
              "      <td>0.72</td>\n",
              "    </tr>\n",
              "    <tr>\n",
              "      <th>45</th>\n",
              "      <td>4</td>\n",
              "      <td>lemon</td>\n",
              "      <td>spanish_belsan</td>\n",
              "      <td>186</td>\n",
              "      <td>7.2</td>\n",
              "      <td>9.2</td>\n",
              "      <td>0.72</td>\n",
              "    </tr>\n",
              "    <tr>\n",
              "      <th>46</th>\n",
              "      <td>4</td>\n",
              "      <td>lemon</td>\n",
              "      <td>spanish_belsan</td>\n",
              "      <td>216</td>\n",
              "      <td>7.3</td>\n",
              "      <td>10.2</td>\n",
              "      <td>0.71</td>\n",
              "    </tr>\n",
              "    <tr>\n",
              "      <th>47</th>\n",
              "      <td>4</td>\n",
              "      <td>lemon</td>\n",
              "      <td>spanish_belsan</td>\n",
              "      <td>196</td>\n",
              "      <td>7.3</td>\n",
              "      <td>9.7</td>\n",
              "      <td>0.72</td>\n",
              "    </tr>\n",
              "    <tr>\n",
              "      <th>48</th>\n",
              "      <td>4</td>\n",
              "      <td>lemon</td>\n",
              "      <td>spanish_belsan</td>\n",
              "      <td>174</td>\n",
              "      <td>7.3</td>\n",
              "      <td>10.1</td>\n",
              "      <td>0.72</td>\n",
              "    </tr>\n",
              "    <tr>\n",
              "      <th>49</th>\n",
              "      <td>4</td>\n",
              "      <td>lemon</td>\n",
              "      <td>unknown</td>\n",
              "      <td>132</td>\n",
              "      <td>5.8</td>\n",
              "      <td>8.7</td>\n",
              "      <td>0.73</td>\n",
              "    </tr>\n",
              "    <tr>\n",
              "      <th>50</th>\n",
              "      <td>4</td>\n",
              "      <td>lemon</td>\n",
              "      <td>unknown</td>\n",
              "      <td>130</td>\n",
              "      <td>6.0</td>\n",
              "      <td>8.2</td>\n",
              "      <td>0.71</td>\n",
              "    </tr>\n",
              "    <tr>\n",
              "      <th>51</th>\n",
              "      <td>4</td>\n",
              "      <td>lemon</td>\n",
              "      <td>unknown</td>\n",
              "      <td>116</td>\n",
              "      <td>6.0</td>\n",
              "      <td>7.5</td>\n",
              "      <td>0.72</td>\n",
              "    </tr>\n",
              "    <tr>\n",
              "      <th>52</th>\n",
              "      <td>4</td>\n",
              "      <td>lemon</td>\n",
              "      <td>unknown</td>\n",
              "      <td>118</td>\n",
              "      <td>5.9</td>\n",
              "      <td>8.0</td>\n",
              "      <td>0.72</td>\n",
              "    </tr>\n",
              "    <tr>\n",
              "      <th>53</th>\n",
              "      <td>4</td>\n",
              "      <td>lemon</td>\n",
              "      <td>unknown</td>\n",
              "      <td>120</td>\n",
              "      <td>6.0</td>\n",
              "      <td>8.4</td>\n",
              "      <td>0.74</td>\n",
              "    </tr>\n",
              "    <tr>\n",
              "      <th>54</th>\n",
              "      <td>4</td>\n",
              "      <td>lemon</td>\n",
              "      <td>unknown</td>\n",
              "      <td>116</td>\n",
              "      <td>6.1</td>\n",
              "      <td>8.5</td>\n",
              "      <td>0.71</td>\n",
              "    </tr>\n",
              "    <tr>\n",
              "      <th>55</th>\n",
              "      <td>4</td>\n",
              "      <td>lemon</td>\n",
              "      <td>unknown</td>\n",
              "      <td>116</td>\n",
              "      <td>6.3</td>\n",
              "      <td>7.7</td>\n",
              "      <td>0.72</td>\n",
              "    </tr>\n",
              "    <tr>\n",
              "      <th>56</th>\n",
              "      <td>4</td>\n",
              "      <td>lemon</td>\n",
              "      <td>unknown</td>\n",
              "      <td>116</td>\n",
              "      <td>5.9</td>\n",
              "      <td>8.1</td>\n",
              "      <td>0.73</td>\n",
              "    </tr>\n",
              "    <tr>\n",
              "      <th>57</th>\n",
              "      <td>4</td>\n",
              "      <td>lemon</td>\n",
              "      <td>unknown</td>\n",
              "      <td>152</td>\n",
              "      <td>6.5</td>\n",
              "      <td>8.5</td>\n",
              "      <td>0.72</td>\n",
              "    </tr>\n",
              "    <tr>\n",
              "      <th>58</th>\n",
              "      <td>4</td>\n",
              "      <td>lemon</td>\n",
              "      <td>unknown</td>\n",
              "      <td>118</td>\n",
              "      <td>6.1</td>\n",
              "      <td>8.1</td>\n",
              "      <td>0.70</td>\n",
              "    </tr>\n",
              "  </tbody>\n",
              "</table>\n",
              "</div>\n",
              "      <button class=\"colab-df-convert\" onclick=\"convertToInteractive('df-c2ac315c-5afc-41e0-8e15-81ddd7cac6df')\"\n",
              "              title=\"Convert this dataframe to an interactive table.\"\n",
              "              style=\"display:none;\">\n",
              "        \n",
              "  <svg xmlns=\"http://www.w3.org/2000/svg\" height=\"24px\"viewBox=\"0 0 24 24\"\n",
              "       width=\"24px\">\n",
              "    <path d=\"M0 0h24v24H0V0z\" fill=\"none\"/>\n",
              "    <path d=\"M18.56 5.44l.94 2.06.94-2.06 2.06-.94-2.06-.94-.94-2.06-.94 2.06-2.06.94zm-11 1L8.5 8.5l.94-2.06 2.06-.94-2.06-.94L8.5 2.5l-.94 2.06-2.06.94zm10 10l.94 2.06.94-2.06 2.06-.94-2.06-.94-.94-2.06-.94 2.06-2.06.94z\"/><path d=\"M17.41 7.96l-1.37-1.37c-.4-.4-.92-.59-1.43-.59-.52 0-1.04.2-1.43.59L10.3 9.45l-7.72 7.72c-.78.78-.78 2.05 0 2.83L4 21.41c.39.39.9.59 1.41.59.51 0 1.02-.2 1.41-.59l7.78-7.78 2.81-2.81c.8-.78.8-2.07 0-2.86zM5.41 20L4 18.59l7.72-7.72 1.47 1.35L5.41 20z\"/>\n",
              "  </svg>\n",
              "      </button>\n",
              "      \n",
              "  <style>\n",
              "    .colab-df-container {\n",
              "      display:flex;\n",
              "      flex-wrap:wrap;\n",
              "      gap: 12px;\n",
              "    }\n",
              "\n",
              "    .colab-df-convert {\n",
              "      background-color: #E8F0FE;\n",
              "      border: none;\n",
              "      border-radius: 50%;\n",
              "      cursor: pointer;\n",
              "      display: none;\n",
              "      fill: #1967D2;\n",
              "      height: 32px;\n",
              "      padding: 0 0 0 0;\n",
              "      width: 32px;\n",
              "    }\n",
              "\n",
              "    .colab-df-convert:hover {\n",
              "      background-color: #E2EBFA;\n",
              "      box-shadow: 0px 1px 2px rgba(60, 64, 67, 0.3), 0px 1px 3px 1px rgba(60, 64, 67, 0.15);\n",
              "      fill: #174EA6;\n",
              "    }\n",
              "\n",
              "    [theme=dark] .colab-df-convert {\n",
              "      background-color: #3B4455;\n",
              "      fill: #D2E3FC;\n",
              "    }\n",
              "\n",
              "    [theme=dark] .colab-df-convert:hover {\n",
              "      background-color: #434B5C;\n",
              "      box-shadow: 0px 1px 3px 1px rgba(0, 0, 0, 0.15);\n",
              "      filter: drop-shadow(0px 1px 2px rgba(0, 0, 0, 0.3));\n",
              "      fill: #FFFFFF;\n",
              "    }\n",
              "  </style>\n",
              "\n",
              "      <script>\n",
              "        const buttonEl =\n",
              "          document.querySelector('#df-c2ac315c-5afc-41e0-8e15-81ddd7cac6df button.colab-df-convert');\n",
              "        buttonEl.style.display =\n",
              "          google.colab.kernel.accessAllowed ? 'block' : 'none';\n",
              "\n",
              "        async function convertToInteractive(key) {\n",
              "          const element = document.querySelector('#df-c2ac315c-5afc-41e0-8e15-81ddd7cac6df');\n",
              "          const dataTable =\n",
              "            await google.colab.kernel.invokeFunction('convertToInteractive',\n",
              "                                                     [key], {});\n",
              "          if (!dataTable) return;\n",
              "\n",
              "          const docLinkHtml = 'Like what you see? Visit the ' +\n",
              "            '<a target=\"_blank\" href=https://colab.research.google.com/notebooks/data_table.ipynb>data table notebook</a>'\n",
              "            + ' to learn more about interactive tables.';\n",
              "          element.innerHTML = '';\n",
              "          dataTable['output_type'] = 'display_data';\n",
              "          await google.colab.output.renderOutput(dataTable, element);\n",
              "          const docLink = document.createElement('div');\n",
              "          docLink.innerHTML = docLinkHtml;\n",
              "          element.appendChild(docLink);\n",
              "        }\n",
              "      </script>\n",
              "    </div>\n",
              "  </div>\n",
              "  "
            ]
          },
          "metadata": {},
          "execution_count": 10
        }
      ],
      "source": [
        "fruits"
      ],
      "id": "PuJKZkmttnLn"
    },
    {
      "cell_type": "markdown",
      "metadata": {
        "id": "66352dde-4078-44ab-8887-83f5692e27bb"
      },
      "source": [
        "#### Question 4\n",
        "1. Split the data by columns into X_fruits and y_fruits where X_fruits is the data records and y_fruits is the labels.\n",
        "2. Using only the **'height'** and **'width'** features, split the data into training and testing using random_state=0, and 25% of the data for testing.\n",
        "3. Using **sklearn LinearSVC**, train a linear svm"
      ],
      "id": "66352dde-4078-44ab-8887-83f5692e27bb"
    },
    {
      "cell_type": "code",
      "execution_count": 11,
      "metadata": {
        "id": "5dd1699a-1da6-4824-8fda-ec8ab5ee888d"
      },
      "outputs": [],
      "source": [
        "X_fruits = fruits.iloc[:,3:]\n",
        "y_fruits = fruits.iloc[:,0].values"
      ],
      "id": "5dd1699a-1da6-4824-8fda-ec8ab5ee888d"
    },
    {
      "cell_type": "code",
      "execution_count": 12,
      "metadata": {
        "id": "wHtQ5p1Cvprc"
      },
      "outputs": [],
      "source": [
        "X_fruits = X_fruits.iloc[:,1:3].values"
      ],
      "id": "wHtQ5p1Cvprc"
    },
    {
      "cell_type": "code",
      "execution_count": 13,
      "metadata": {
        "colab": {
          "base_uri": "https://localhost:8080/"
        },
        "id": "P6e4YEyCvqty",
        "outputId": "710d7bcd-6613-47e5-90ea-94fe680bf44e"
      },
      "outputs": [
        {
          "output_type": "execute_result",
          "data": {
            "text/plain": [
              "array([[ 8.4,  7.3],\n",
              "       [ 8. ,  6.8],\n",
              "       [ 7.4,  7.2],\n",
              "       [ 6.2,  4.7],\n",
              "       [ 6. ,  4.6],\n",
              "       [ 5.8,  4.3],\n",
              "       [ 5.9,  4.3],\n",
              "       [ 5.8,  4. ],\n",
              "       [ 7.1,  7.8],\n",
              "       [ 7.4,  7. ],\n",
              "       [ 6.9,  7.3],\n",
              "       [ 7.1,  7.6],\n",
              "       [ 7. ,  7.1],\n",
              "       [ 7.3,  7.7],\n",
              "       [ 7.6,  7.3],\n",
              "       [ 7.7,  7.1],\n",
              "       [ 7.6,  7.5],\n",
              "       [ 7.5,  7.6],\n",
              "       [ 7.5,  7.1],\n",
              "       [ 7.4,  7.2],\n",
              "       [ 7.5,  7.5],\n",
              "       [ 7.4,  7.4],\n",
              "       [ 7.3,  7.1],\n",
              "       [ 7.6,  7.9],\n",
              "       [ 9. ,  9.4],\n",
              "       [ 9.2,  9.2],\n",
              "       [ 9.6,  9.2],\n",
              "       [ 7.5,  9.2],\n",
              "       [ 6.7,  7.1],\n",
              "       [ 7. ,  7.4],\n",
              "       [ 7.1,  7.5],\n",
              "       [ 7.8,  8. ],\n",
              "       [ 7.2,  7. ],\n",
              "       [ 7.5,  8.1],\n",
              "       [ 7.6,  7.8],\n",
              "       [ 7.1,  7.9],\n",
              "       [ 7.1,  7.6],\n",
              "       [ 7.3,  7.3],\n",
              "       [ 7.2,  7.8],\n",
              "       [ 6.8,  7.4],\n",
              "       [ 7.1,  7.5],\n",
              "       [ 7.6,  8.2],\n",
              "       [ 7.2,  7.2],\n",
              "       [ 7.2, 10.3],\n",
              "       [ 7.3, 10.5],\n",
              "       [ 7.2,  9.2],\n",
              "       [ 7.3, 10.2],\n",
              "       [ 7.3,  9.7],\n",
              "       [ 7.3, 10.1],\n",
              "       [ 5.8,  8.7],\n",
              "       [ 6. ,  8.2],\n",
              "       [ 6. ,  7.5],\n",
              "       [ 5.9,  8. ],\n",
              "       [ 6. ,  8.4],\n",
              "       [ 6.1,  8.5],\n",
              "       [ 6.3,  7.7],\n",
              "       [ 5.9,  8.1],\n",
              "       [ 6.5,  8.5],\n",
              "       [ 6.1,  8.1]])"
            ]
          },
          "metadata": {},
          "execution_count": 13
        }
      ],
      "source": [
        "X_fruits"
      ],
      "id": "P6e4YEyCvqty"
    },
    {
      "cell_type": "code",
      "execution_count": 14,
      "metadata": {
        "colab": {
          "base_uri": "https://localhost:8080/"
        },
        "id": "opJx0zD9nEm6",
        "outputId": "a4066b22-3548-48a1-c366-0f0754703a32"
      },
      "outputs": [
        {
          "output_type": "execute_result",
          "data": {
            "text/plain": [
              "array([1, 1, 1, 2, 2, 2, 2, 2, 1, 1, 1, 1, 1, 1, 1, 1, 1, 1, 1, 1, 1, 1,\n",
              "       1, 1, 3, 3, 3, 3, 3, 3, 3, 3, 3, 3, 3, 3, 3, 3, 3, 3, 3, 3, 3, 4,\n",
              "       4, 4, 4, 4, 4, 4, 4, 4, 4, 4, 4, 4, 4, 4, 4])"
            ]
          },
          "metadata": {},
          "execution_count": 14
        }
      ],
      "source": [
        "y_fruits"
      ],
      "id": "opJx0zD9nEm6"
    },
    {
      "cell_type": "code",
      "execution_count": 15,
      "metadata": {
        "id": "x6FJl9_Bvsxm"
      },
      "outputs": [],
      "source": [
        "X_fruits_train, X_fruits_test, y_fruits_train, y_fruits_test = train_test_split(X_fruits, y_fruits, test_size=0.25, random_state=0)"
      ],
      "id": "x6FJl9_Bvsxm"
    },
    {
      "cell_type": "code",
      "execution_count": 16,
      "metadata": {
        "colab": {
          "base_uri": "https://localhost:8080/"
        },
        "id": "f6Lij71rw9et",
        "outputId": "e7f8f2ac-010a-4fb7-c3b2-28558ed2a0ee"
      },
      "outputs": [
        {
          "output_type": "stream",
          "name": "stderr",
          "text": [
            "/usr/local/lib/python3.7/dist-packages/sklearn/svm/_base.py:1208: ConvergenceWarning: Liblinear failed to converge, increase the number of iterations.\n",
            "  ConvergenceWarning,\n"
          ]
        },
        {
          "output_type": "execute_result",
          "data": {
            "text/plain": [
              "LinearSVC()"
            ]
          },
          "metadata": {},
          "execution_count": 16
        }
      ],
      "source": [
        "from sklearn.svm import LinearSVC\n",
        "linear_svc=LinearSVC()\n",
        "linear_svc.fit(X_fruits_train,y_fruits_train)"
      ],
      "id": "f6Lij71rw9et"
    },
    {
      "cell_type": "markdown",
      "metadata": {
        "id": "a611f9a5-9b50-4254-9758-b345c0a8b004"
      },
      "source": [
        "#### Question 5\n",
        "For the previous model from question 4. \n",
        "1. How many SVM models have been trained? and Why?\n",
        "2. Print the models' coefficients and intercepts."
      ],
      "id": "a611f9a5-9b50-4254-9758-b345c0a8b004"
    },
    {
      "cell_type": "code",
      "execution_count": 17,
      "metadata": {
        "colab": {
          "base_uri": "https://localhost:8080/"
        },
        "id": "a570c2fd-da23-45a9-991e-0cbaaf42a408",
        "outputId": "a6766d4f-03cb-4a7b-ddab-0f67b4d2dd78"
      },
      "outputs": [
        {
          "output_type": "stream",
          "name": "stdout",
          "text": [
            "intercepts:  [-1.54174281  0.78671606 -1.70952349  0.37197993]\n",
            "coeffs:  [[ 0.47601232 -0.27448213]\n",
            " [ 0.78989692 -1.10771485]\n",
            " [ 0.20229368 -0.02647841]\n",
            " [-1.26172757  1.01060162]]\n"
          ]
        }
      ],
      "source": [
        "# 4 models because we have 4 different categories, a model for each category vs all\n",
        "print(\"intercepts: \",linear_svc.intercept_)\n",
        "print(\"coeffs: \",linear_svc.coef_)"
      ],
      "id": "a570c2fd-da23-45a9-991e-0cbaaf42a408"
    },
    {
      "cell_type": "markdown",
      "metadata": {
        "id": "38e23755-67ec-4206-82f8-510af6afb99a"
      },
      "source": [
        "#### Question 6\n",
        "Plot the classification boundary of each svm on a scatter plot of the training data."
      ],
      "id": "38e23755-67ec-4206-82f8-510af6afb99a"
    },
    {
      "cell_type": "code",
      "execution_count": 18,
      "metadata": {
        "colab": {
          "base_uri": "https://localhost:8080/",
          "height": 265
        },
        "id": "739782a7-14f3-4abb-ac5d-ae37e72338f8",
        "outputId": "e7a65dfc-019f-44a2-bdce-611578609e63"
      },
      "outputs": [
        {
          "output_type": "display_data",
          "data": {
            "text/plain": [
              "<Figure size 432x288 with 1 Axes>"
            ],
            "image/png": "[encoded data removed]"
          },
          "metadata": {
            "needs_background": "light"
          }
        }
      ],
      "source": [
        "plot_class_regions_for_classifier(linear_svc,X_fruits_train ,y_fruits_train, X_test=None, y_test=None, title=None, target_names = [1,2,3,4], plot_decision_regions = True)\n"
      ],
      "id": "739782a7-14f3-4abb-ac5d-ae37e72338f8"
    },
    {
      "cell_type": "markdown",
      "metadata": {
        "id": "2e11ad7d-6ae9-46b2-b788-ed90ea00dcfb"
      },
      "source": [
        "from sklearn.datasets import load_breast_cancer\n",
        "(X_cancer, y_cancer) = load_breast_cancer(return_X_y = True)### Use the breast cancer dataset in question 7, 8, and9."
      ],
      "id": "2e11ad7d-6ae9-46b2-b788-ed90ea00dcfb"
    },
    {
      "cell_type": "code",
      "execution_count": 19,
      "metadata": {
        "id": "de479d67-6c2c-4be0-9526-83fe840138c4"
      },
      "outputs": [],
      "source": [
        "from sklearn.datasets import load_breast_cancer\n",
        "(X_cancer, y_cancer) = load_breast_cancer(return_X_y = True)"
      ],
      "id": "de479d67-6c2c-4be0-9526-83fe840138c4"
    },
    {
      "cell_type": "markdown",
      "metadata": {
        "id": "19edd997-56a1-4a8d-bbc8-5d53a8aa3a1a"
      },
      "source": [
        "#### Question 7\n",
        "1. Split the dataset into training and testing datasets, use random_state = 0, and 25% of the data for testing.\n",
        "2. Use GridSearchCV to find the best C value for and SVM classifier with rbf kernel and print the best C value. *use:*  \n",
        "```python\n",
        "parameters = {'kernel' : ('poly', 'rbf'), 'C':[0.01, 0.1, 0.5, 1, 10]}\n",
        "```\n",
        "3. Print the best parameters resulted from your grid search."
      ],
      "id": "19edd997-56a1-4a8d-bbc8-5d53a8aa3a1a"
    },
    {
      "cell_type": "code",
      "execution_count": 20,
      "metadata": {
        "id": "sgVXBmjjJ85P"
      },
      "outputs": [],
      "source": [
        "# a helpful link: https://stackabuse.com/cross-validation-and-grid-search-for-model-selection-in-python/"
      ],
      "id": "sgVXBmjjJ85P"
    },
    {
      "cell_type": "code",
      "execution_count": 21,
      "metadata": {
        "colab": {
          "base_uri": "https://localhost:8080/"
        },
        "id": "13a88e01-c565-4a50-b213-d749f596847e",
        "outputId": "0469b727-7cc6-42ba-e7c4-702f7c19c220"
      },
      "outputs": [
        {
          "output_type": "stream",
          "name": "stdout",
          "text": [
            "{'C': 10, 'kernel': 'rbf'}\n"
          ]
        }
      ],
      "source": [
        "X_cancer_train, X_cancer_test, y_cancer_train, y_cancer_test = train_test_split(X_cancer, y_cancer, test_size=0.25, random_state=0)\n",
        "from sklearn.model_selection import GridSearchCV\n",
        "from sklearn.svm import SVC\n",
        "clf=SVC()\n",
        "\n",
        "parameters = {'kernel' : ('poly', 'rbf'), 'C':[0.01, 0.1, 0.5, 1, 10]}\n",
        "gd_sr = GridSearchCV(estimator=clf,\n",
        "                     param_grid=parameters,\n",
        "                     scoring='accuracy',\n",
        "                     cv=5,\n",
        "                     n_jobs=-1)\n",
        "\n",
        "gd_sr.fit(X_cancer_train, y_cancer_train)\n",
        "best_parameters = gd_sr.best_params_\n",
        "print(best_parameters)\n"
      ],
      "id": "13a88e01-c565-4a50-b213-d749f596847e"
    },
    {
      "cell_type": "markdown",
      "metadata": {
        "id": "0b0a89ca-c6a7-4ee2-8816-f548f3d1c370"
      },
      "source": [
        "#### Question 8\n",
        "Train an SVM model using the best parameters resulted from question 7, then calculate and print the training and testing accuracy."
      ],
      "id": "0b0a89ca-c6a7-4ee2-8816-f548f3d1c370"
    },
    {
      "cell_type": "code",
      "execution_count": 22,
      "metadata": {
        "colab": {
          "base_uri": "https://localhost:8080/"
        },
        "id": "01cff031-bb89-4312-a4e4-625d75c7063d",
        "outputId": "3ed10143-48d0-4a94-fe26-a76c0fca8d72"
      },
      "outputs": [
        {
          "output_type": "stream",
          "name": "stdout",
          "text": [
            "training accuracy:  0.9154929577464789\n",
            "testing accuracy:  0.9370629370629371\n"
          ]
        }
      ],
      "source": [
        "clf=SVC(C= 10, kernel= 'rbf')\n",
        "clf.fit(X_cancer_train,y_cancer_train)\n",
        "print(\"training accuracy: \",clf.score(X_cancer_train,y_cancer_train))\n",
        "print(\"testing accuracy: \",clf.score(X_cancer_test,y_cancer_test))\n",
        "\n"
      ],
      "id": "01cff031-bb89-4312-a4e4-625d75c7063d"
    },
    {
      "cell_type": "markdown",
      "metadata": {
        "id": "04675165-358e-4881-b04c-448f78830b38"
      },
      "source": [
        "#### Question 9\n",
        "Improve the previous results from question 8.\n",
        "\n",
        "**Hint:** Don't change the model, instead, make some preprocessing on the data."
      ],
      "id": "04675165-358e-4881-b04c-448f78830b38"
    },
    {
      "cell_type": "code",
      "execution_count": 23,
      "metadata": {
        "id": "7a6cacbc-c961-4b06-b2ae-31bf5e4636b0",
        "colab": {
          "base_uri": "https://localhost:8080/"
        },
        "outputId": "0538ea53-16d4-4f67-d43e-20589bcddfc4"
      },
      "outputs": [
        {
          "output_type": "stream",
          "name": "stdout",
          "text": [
            "training accuracy:  0.9882629107981221\n",
            "testing accuracy:  0.993006993006993\n"
          ]
        }
      ],
      "source": [
        "from sklearn.preprocessing import StandardScaler\n",
        "from sklearn.pipeline import make_pipeline\n",
        "stf_clf = make_pipeline(StandardScaler(), SVC(C= 10, kernel= 'rbf'))\n",
        "stf_clf.fit(X_cancer_train, y_cancer_train)\n",
        "print(\"training accuracy: \",stf_clf.score(X_cancer_train,y_cancer_train))\n",
        "print(\"testing accuracy: \",stf_clf.score(X_cancer_test,y_cancer_test))"
      ],
      "id": "7a6cacbc-c961-4b06-b2ae-31bf5e4636b0"
    }
  ],
  "metadata": {
    "colab": {
      "collapsed_sections": [],
      "name": "A5_SVM(1).ipynb",
      "provenance": []
    },
    "kernelspec": {
      "display_name": "Python 3 (ipykernel)",
      "language": "python",
      "name": "python3"
    },
    "language_info": {
      "codemirror_mode": {
        "name": "ipython",
        "version": 3
      },
      "file_extension": ".py",
      "mimetype": "text/x-python",
      "name": "python",
      "nbconvert_exporter": "python",
      "pygments_lexer": "ipython3",
      "version": "3.9.10"
    }
  },
  "nbformat": 4,
  "nbformat_minor": 5
}